{
 "cells": [
  {
   "cell_type": "code",
   "execution_count": 1,
   "metadata": {},
   "outputs": [
    {
     "name": "stderr",
     "output_type": "stream",
     "text": [
      "Using TensorFlow backend.\n"
     ]
    }
   ],
   "source": [
    "from keras.models import load_model\n",
    "import gensim\n",
    "import gensim.models.word2vec as word2vec\n",
    "import nltk\n",
    "import numpy as np\n",
    "import string\n",
    "import os"
   ]
  },
  {
   "cell_type": "code",
   "execution_count": 9,
   "metadata": {},
   "outputs": [],
   "source": [
    "lstmModel = load_model('keras_lstm_old/LSTM5000.h5')\n",
    "genModel = word2vec.Word2Vec.load(os.path.join('trained', 'word2vec.bin'))"
   ]
  },
  {
   "cell_type": "code",
   "execution_count": 10,
   "metadata": {},
   "outputs": [
    {
     "data": {
      "text/plain": [
       "[('kleiser', 0.2679027318954468),\n",
       " ('karluah', 0.2672271132469177),\n",
       " ('ballets', 0.2658051550388336),\n",
       " ('steenkamp', 0.25745439529418945),\n",
       " ('post-oscar', 0.25295162200927734),\n",
       " ('triche-milazzo', 0.2494172602891922),\n",
       " ('cihak', 0.24854589998722076),\n",
       " ('reeva', 0.24565699696540833),\n",
       " ('1809-1892', 0.24105390906333923),\n",
       " ('poh-leet', 0.23905155062675476)]"
      ]
     },
     "execution_count": 10,
     "metadata": {},
     "output_type": "execute_result"
    }
   ],
   "source": [
    "senEnd = np.ones((300,))\n",
    "padWord = genModel.most_similar([senEnd])\n",
    "padWord"
   ]
  },
  {
   "cell_type": "code",
   "execution_count": 11,
   "metadata": {},
   "outputs": [
    {
     "data": {
      "text/plain": [
       "['kleiser',\n",
       " 'karluah',\n",
       " 'ballets',\n",
       " 'steenkamp',\n",
       " 'post-oscar',\n",
       " 'triche-milazzo',\n",
       " 'cihak',\n",
       " 'reeva',\n",
       " '1809-1892',\n",
       " 'poh-leet']"
      ]
     },
     "execution_count": 11,
     "metadata": {},
     "output_type": "execute_result"
    }
   ],
   "source": [
    "padWordList = [word[0] for word in padWord]\n",
    "padWordList"
   ]
  },
  {
   "cell_type": "code",
   "execution_count": null,
   "metadata": {
    "scrolled": false
   },
   "outputs": [
    {
     "name": "stdout",
     "output_type": "stream",
     "text": [
      "enter the message : hello\n",
      "hi\n",
      "enter the message : hi\n",
      "how are you doing\n",
      "enter the message : who are you\n",
      "what who is but a form following the function of what\n",
      "enter the message : how are you\n",
      "i am doing well how that n't\n",
      "enter the message : how old are you\n",
      "i am doing well how know\n",
      "enter the message : heyya\n",
      "do is it do\n"
     ]
    }
   ],
   "source": [
    "while True:\n",
    "    inp = input(\"enter the message : \")\n",
    "    senTokens = nltk.word_tokenize(inp.lower())\n",
    "    for word in senTokens:\n",
    "        if word in string.punctuation:\n",
    "            senTokens.remove(word)\n",
    "    \n",
    "    senVec = [genModel[w] for w in senTokens if w in genModel.wv.vocab] \n",
    "    \n",
    "    \n",
    "    senVec[14:] = []\n",
    "\n",
    "    if len(senVec) < 15:\n",
    "        for i in range (15 - senVec.__len__()):\n",
    "            senVec.append(senEnd)\n",
    "    senVec = np.array([senVec])\n",
    "    prediction = lstmModel.predict(senVec)\n",
    "    responseListOld = [genModel.most_similar([prediction[0][i]]) [0][0] for i in range(15)]\n",
    "    responseList = [word for word in responseListOld if word not in padWordList]\n",
    "    #for word in responseList:\n",
    "       # if word in padWordList:\n",
    "            #responseList.remove(word)\n",
    "    response = ' '.join(responseList)\n",
    "    print(response)"
   ]
  },
  {
   "cell_type": "code",
   "execution_count": null,
   "metadata": {
    "collapsed": true
   },
   "outputs": [],
   "source": []
  }
 ],
 "metadata": {
  "kernelspec": {
   "display_name": "Python 3",
   "language": "python",
   "name": "python3"
  },
  "language_info": {
   "codemirror_mode": {
    "name": "ipython",
    "version": 3
   },
   "file_extension": ".py",
   "mimetype": "text/x-python",
   "name": "python",
   "nbconvert_exporter": "python",
   "pygments_lexer": "ipython3",
   "version": "3.5.2"
  }
 },
 "nbformat": 4,
 "nbformat_minor": 2
}
