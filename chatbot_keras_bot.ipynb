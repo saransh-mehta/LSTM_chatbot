{
 "cells": [
  {
   "cell_type": "code",
   "execution_count": null,
   "metadata": {},
   "outputs": [],
   "source": [
    "from keras.models import load_model\n",
    "import gensim\n",
    "import gensim.models.word2vec as word2vec\n",
    "import nltk\n",
    "import numpy as np\n",
    "import string\n",
    "import os"
   ]
  },
  {
   "cell_type": "code",
   "execution_count": null,
   "metadata": {
    "collapsed": true
   },
   "outputs": [],
   "source": [
    "lstmModel = load_model('keras_lstm_old/LSTM5000.h5')\n",
    "genModel = word2vec.Word2Vec.load(os.path.join('trained', 'word2vec.bin'))"
   ]
  },
  {
   "cell_type": "code",
   "execution_count": null,
   "metadata": {},
   "outputs": [],
   "source": [
    "senEnd = np.ones((300,))\n",
    "padWord = genModel.most_similar([senEnd])\n",
    "padWord"
   ]
  },
  {
   "cell_type": "code",
   "execution_count": null,
   "metadata": {},
   "outputs": [],
   "source": [
    "padWordList = [word[0] for word in padWord]\n",
    "padWordList"
   ]
  },
  {
   "cell_type": "code",
   "execution_count": null,
   "metadata": {
    "scrolled": false
   },
   "outputs": [],
   "source": [
    "while True:\n",
    "    inp = input(\"enter the message : \")\n",
    "    senTokens = nltk.word_tokenize(inp.lower())\n",
    "    for word in senTokens:\n",
    "        if word in string.punctuation:\n",
    "            senTokens.remove(word)\n",
    "    \n",
    "    senVec = [genModel[w] for w in senTokens if w in genModel.wv.vocab] \n",
    "    \n",
    "    \n",
    "    senVec[14:] = []\n",
    "\n",
    "    if len(senVec) < 15:\n",
    "        for i in range (15 - senVec.__len__()):\n",
    "            senVec.append(senEnd)\n",
    "    senVec = np.array([senVec])\n",
    "    prediction = lstmModel.predict(senVec)\n",
    "    responseListOld = [genModel.most_similar([prediction[0][i]]) [0][0] for i in range(15)]\n",
    "    responseList = [word for word in responseListOld if word not in padWordList]\n",
    "    #for word in responseList:\n",
    "       # if word in padWordList:\n",
    "            #responseList.remove(word)\n",
    "    response = ' '.join(responseList)\n",
    "    print(response)"
   ]
  },
  {
   "cell_type": "code",
   "execution_count": null,
   "metadata": {
    "collapsed": true
   },
   "outputs": [],
   "source": []
  }
 ],
 "metadata": {
  "kernelspec": {
   "display_name": "Python 3",
   "language": "python",
   "name": "python3"
  },
  "language_info": {
   "codemirror_mode": {
    "name": "ipython",
    "version": 3
   },
   "file_extension": ".py",
   "mimetype": "text/x-python",
   "name": "python",
   "nbconvert_exporter": "python",
   "pygments_lexer": "ipython3",
   "version": "3.5.2"
  }
 },
 "nbformat": 4,
 "nbformat_minor": 2
}
