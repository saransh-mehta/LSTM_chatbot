{
 "cells": [
  {
   "cell_type": "code",
   "execution_count": null,
   "metadata": {
    "collapsed": true
   },
   "outputs": [],
   "source": [
    "import os\n",
    "import nltk\n",
    "import json\n",
    "#import gensim\n",
    "import numpy as np\n",
    "import pickle\n",
    "#from gensim import similarities,models, corpora\n",
    "import gensim.models.word2vec as word2vec\n",
    "#from nltk.corpus import stopwords\n",
    "import string"
   ]
  },
  {
   "cell_type": "code",
   "execution_count": null,
   "metadata": {
    "collapsed": true,
    "scrolled": true
   },
   "outputs": [],
   "source": [
    "model = word2vec.Word2Vec.load(os.path.join('trained', 'word2vec.bin'))"
   ]
  },
  {
   "cell_type": "code",
   "execution_count": null,
   "metadata": {
    "collapsed": true
   },
   "outputs": [],
   "source": [
    "f = open('conversations.corpus.json')\n",
    "data = json.load(f)\n",
    "\n",
    "g= open('ai.corpus.json')\n",
    "data2 = json.load(g)\n",
    "\n",
    "h= open('botprofile.corpus.json')\n",
    "data3 = json.load(h)\n",
    "\n",
    "i = open('computers.corpus.json')\n",
    "data4 = json.load(i)\n",
    "\n",
    "j = open('emotion.corpus.json')\n",
    "data5 = json.load(j)\n",
    "\n",
    "k = open('drugs.corpus.json')\n",
    "data6 = json.load(k)\n",
    "\n",
    "l = open('greetings.corpus.json')\n",
    "data7 = json.load(l)\n",
    "\n",
    "m = open('money.corpus.json')\n",
    "data8 = json.load(m)\n",
    "\n",
    "n = open('psychology.corpus.json')\n",
    "data9 = json.load(n)\n"
   ]
  },
  {
   "cell_type": "code",
   "execution_count": null,
   "metadata": {
    "scrolled": true
   },
   "outputs": [],
   "source": [
    "cor = data['conversations']+data2['ai']+data3['profile']+data4['computers']+data5['emotion']+data6['drugs']+data7['greetings']+data8['money']+data9['psychology']\n",
    "cor"
   ]
  },
  {
   "cell_type": "code",
   "execution_count": null,
   "metadata": {
    "collapsed": true
   },
   "outputs": [],
   "source": [
    "x = []\n",
    "y = []\n",
    "for i in range(len(cor)):\n",
    "    for j in range(len(cor[i])):\n",
    "        if j<len(cor[i])-1:\n",
    "            x.append(cor[i][j]);\n",
    "            y.append(cor[i][j+1]);"
   ]
  },
  {
   "cell_type": "code",
   "execution_count": null,
   "metadata": {
    "collapsed": true
   },
   "outputs": [],
   "source": [
    "tok_x=[]\n",
    "tok_y=[]\n",
    "for i in range(len(x)):\n",
    "    preX = nltk.word_tokenize(x[i].lower())\n",
    "    for word in preX:\n",
    "        if word in string.punctuation:\n",
    "            preX.remove(word)\n",
    "    tok_x.append(preX)\n",
    "    \n",
    "    preY = nltk.word_tokenize(y[i].lower())\n",
    "    for word in preY:\n",
    "        if word in string.punctuation:\n",
    "            preY.remove(word)\n",
    "    tok_y.append(preY)\n"
   ]
  },
  {
   "cell_type": "code",
   "execution_count": null,
   "metadata": {
    "scrolled": true
   },
   "outputs": [],
   "source": [
    "print(tok_x)"
   ]
  },
  {
   "cell_type": "code",
   "execution_count": null,
   "metadata": {
    "collapsed": true
   },
   "outputs": [],
   "source": [
    "sentend=np.ones((300,)) "
   ]
  },
  {
   "cell_type": "code",
   "execution_count": null,
   "metadata": {
    "collapsed": true
   },
   "outputs": [],
   "source": [
    "# here we are taking each tokenize sentence, taking out a 300-D vector for each word if found\n",
    "# in vocab, and making list in similar manner as it was in tok_x and tok_y \n",
    "#just wid the diff that instead of a word there is 300 D vector\n",
    "\n",
    "vec_x = []\n",
    "for sent in tok_x:\n",
    "    sentvec = [model[w] for w in sent if w in model.wv.vocab]\n",
    "    vec_x.append(sentvec)"
   ]
  },
  {
   "cell_type": "code",
   "execution_count": null,
   "metadata": {},
   "outputs": [],
   "source": [
    "vec_x"
   ]
  },
  {
   "cell_type": "code",
   "execution_count": null,
   "metadata": {
    "collapsed": true
   },
   "outputs": [],
   "source": [
    "vec_y=[]\n",
    "for sent in tok_y:\n",
    "    sentvec = [model[w] for w in sent if w in model.wv.vocab]\n",
    "    vec_y.append(sentvec) "
   ]
  },
  {
   "cell_type": "code",
   "execution_count": null,
   "metadata": {
    "collapsed": true
   },
   "outputs": [],
   "source": [
    "# here if each sentence which is having vector, if the length of the sentence is less than 15 words\n",
    "# we will make it with a 300 D vector having ones so that we can fill a constant value to LSTM in \n",
    "# future\n",
    "\n",
    "for tok_sent in vec_x:\n",
    "    tok_sent[14:]=[]\n",
    "    tok_sent.append(sentend)\n",
    "\n",
    "for tok_sent in vec_x:\n",
    "    if len(tok_sent)<15:\n",
    "        for i in range(15-len(tok_sent)):\n",
    "            tok_sent.append(sentend)    \n",
    "\n",
    "# here after 15 words in y we r flushing n putting ones vector\n",
    "for tok_sent in vec_y:\n",
    "    tok_sent[14:]=[]\n",
    "    tok_sent.append(sentend)\n",
    "    \n",
    "\n",
    "for tok_sent in vec_y:\n",
    "    if len(tok_sent)<15:\n",
    "        for i in range(15-len(tok_sent)):\n",
    "            tok_sent.append(sentend)             \n",
    "            \n",
    "            \n",
    "with open('conversation.pickle','wb') as f:\n",
    "    pickle.dump([vec_x,vec_y],f) "
   ]
  },
  {
   "cell_type": "code",
   "execution_count": null,
   "metadata": {
    "collapsed": true
   },
   "outputs": [],
   "source": []
  },
  {
   "cell_type": "code",
   "execution_count": null,
   "metadata": {
    "collapsed": true
   },
   "outputs": [],
   "source": []
  }
 ],
 "metadata": {
  "kernelspec": {
   "display_name": "Python 3",
   "language": "python",
   "name": "python3"
  },
  "language_info": {
   "codemirror_mode": {
    "name": "ipython",
    "version": 3
   },
   "file_extension": ".py",
   "mimetype": "text/x-python",
   "name": "python",
   "nbconvert_exporter": "python",
   "pygments_lexer": "ipython3",
   "version": "3.5.2"
  }
 },
 "nbformat": 4,
 "nbformat_minor": 2
}
